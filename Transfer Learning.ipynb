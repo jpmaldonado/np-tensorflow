{
 "cells": [
  {
   "cell_type": "code",
   "execution_count": 1,
   "metadata": {},
   "outputs": [],
   "source": [
    "from tensorflow.keras.applications.mobilenet import MobileNet, preprocess_input, decode_predictions"
   ]
  },
  {
   "cell_type": "markdown",
   "metadata": {},
   "source": [
    "### MobileNet\n",
    "- Neural network which is around 28MB. \n",
    "- Runs on mobile devices.\n",
    "- Single-shot detection."
   ]
  },
  {
   "cell_type": "code",
   "execution_count": 2,
   "metadata": {},
   "outputs": [],
   "source": [
    " model = MobileNet() # weights=\"path to the h5 file\""
   ]
  },
  {
   "cell_type": "markdown",
   "metadata": {},
   "source": [
    "### Bring in an image to this model (do inference on a trained model)"
   ]
  },
  {
   "cell_type": "code",
   "execution_count": 3,
   "metadata": {},
   "outputs": [],
   "source": [
    "import matplotlib.pyplot as plt"
   ]
  },
  {
   "cell_type": "code",
   "execution_count": 4,
   "metadata": {},
   "outputs": [],
   "source": [
    "from tensorflow.keras.preprocessing import image"
   ]
  },
  {
   "cell_type": "code",
   "execution_count": 5,
   "metadata": {},
   "outputs": [
    {
     "data": {
      "text/plain": [
       "(224, 224, 3)"
      ]
     },
     "execution_count": 5,
     "metadata": {},
     "output_type": "execute_result"
    }
   ],
   "source": [
    "img = image.load_img('./data/hotdog/train/hot_dog/1017226.jpg', target_size=(224,224))\n",
    "img_array = image.img_to_array(img) # Converting from PIL object into a numpy array\n",
    "img_array.shape"
   ]
  },
  {
   "cell_type": "code",
   "execution_count": 6,
   "metadata": {},
   "outputs": [],
   "source": [
    "probas = model.predict(img_array.reshape(1, 224,224,3))"
   ]
  },
  {
   "cell_type": "code",
   "execution_count": 7,
   "metadata": {},
   "outputs": [
    {
     "data": {
      "text/plain": [
       "[[('n02782093', 'balloon', 0.4686488),\n",
       "  ('n09256479', 'coral_reef', 0.10136139),\n",
       "  ('n02606052', 'rock_beauty', 0.08158921),\n",
       "  ('n04209239', 'shower_curtain', 0.0690787),\n",
       "  ('n03530642', 'honeycomb', 0.031012459)]]"
      ]
     },
     "execution_count": 7,
     "metadata": {},
     "output_type": "execute_result"
    }
   ],
   "source": [
    "decode_predictions(probas)"
   ]
  },
  {
   "cell_type": "markdown",
   "metadata": {},
   "source": [
    "#### Load as a json file (if no access to internet)"
   ]
  },
  {
   "cell_type": "code",
   "execution_count": 8,
   "metadata": {},
   "outputs": [],
   "source": [
    "#import json\n",
    "#with open(\"json file path\") as f:\n",
    "#    imagenet = json.load(f)\n",
    "# probas"
   ]
  },
  {
   "cell_type": "markdown",
   "metadata": {},
   "source": [
    "## Transfer learning\n",
    "\n",
    "- Bring back `MobileNet` and do not include the top layer on the network (the last layer excluded)."
   ]
  },
  {
   "cell_type": "code",
   "execution_count": 9,
   "metadata": {},
   "outputs": [],
   "source": [
    "base_model = MobileNet()"
   ]
  },
  {
   "cell_type": "markdown",
   "metadata": {},
   "source": [
    "#### Take the output of the last but one layer, and use it to build on top of it."
   ]
  },
  {
   "cell_type": "code",
   "execution_count": 10,
   "metadata": {},
   "outputs": [],
   "source": [
    "from tensorflow.keras.layers import Dense\n",
    "from tensorflow.keras.models import Model, Sequential"
   ]
  },
  {
   "cell_type": "code",
   "execution_count": 11,
   "metadata": {},
   "outputs": [
    {
     "data": {
      "text/plain": [
       "93"
      ]
     },
     "execution_count": 11,
     "metadata": {},
     "output_type": "execute_result"
    }
   ],
   "source": [
    "len(base_model.layers)"
   ]
  },
  {
   "cell_type": "code",
   "execution_count": 12,
   "metadata": {},
   "outputs": [],
   "source": [
    "new_model = Sequential([base_model.layers[i] for i in range(92)])\n",
    "new_model.add(Dense(512, activation='relu'))\n",
    "new_model.add(Dense(2, activation='softmax'))"
   ]
  },
  {
   "cell_type": "code",
   "execution_count": null,
   "metadata": {},
   "outputs": [],
   "source": [
    "#new_new_model = Sequential(base_model.layers[::-1]+[Dense(512, activation='relu'), Dense(2, activation='softmax')])"
   ]
  },
  {
   "cell_type": "markdown",
   "metadata": {},
   "source": [
    "#### Use generator to bring in the training images for hotdog/not hotdog "
   ]
  },
  {
   "cell_type": "code",
   "execution_count": 14,
   "metadata": {},
   "outputs": [],
   "source": [
    "from tensorflow.keras.preprocessing.image import ImageDataGenerator"
   ]
  },
  {
   "cell_type": "code",
   "execution_count": 23,
   "metadata": {},
   "outputs": [],
   "source": [
    "train_datagen = ImageDataGenerator(preprocessing_function=preprocess_input\n",
    "                                   , horizontal_flip=True, vertical_flip=True)"
   ]
  },
  {
   "cell_type": "code",
   "execution_count": 24,
   "metadata": {},
   "outputs": [
    {
     "name": "stdout",
     "output_type": "stream",
     "text": [
      "Found 498 images belonging to 2 classes.\n"
     ]
    }
   ],
   "source": [
    "train_generator = train_datagen.flow_from_directory('./data/hotdog/train/', \n",
    "                                                    target_size=(224,224), \n",
    "                                                    color_mode='rgb', \n",
    "                                                    class_mode='categorical', \n",
    "                                                    batch_size=32)"
   ]
  },
  {
   "cell_type": "code",
   "execution_count": 17,
   "metadata": {},
   "outputs": [],
   "source": [
    "new_model.compile(loss='categorical_crossentropy', metrics=['accuracy'])"
   ]
  },
  {
   "cell_type": "code",
   "execution_count": 25,
   "metadata": {},
   "outputs": [
    {
     "name": "stdout",
     "output_type": "stream",
     "text": [
      "Epoch 1/10\n",
      "16/16 [==============================] - 181s 11s/step - loss: 3.6764 - accuracy: 0.7349\n",
      "Epoch 2/10\n",
      "16/16 [==============================] - 197s 12s/step - loss: 2.1024 - accuracy: 0.6908\n",
      "Epoch 3/10\n",
      "16/16 [==============================] - 184s 12s/step - loss: 0.4238 - accuracy: 0.8353\n",
      "Epoch 4/10\n",
      "16/16 [==============================] - 182s 11s/step - loss: 0.4570 - accuracy: 0.8494\n",
      "Epoch 5/10\n",
      "16/16 [==============================] - 202s 13s/step - loss: 0.3638 - accuracy: 0.8775\n",
      "Epoch 6/10\n",
      "16/16 [==============================] - 211s 13s/step - loss: 0.4079 - accuracy: 0.8554\n",
      "Epoch 7/10\n",
      "16/16 [==============================] - 214s 13s/step - loss: 0.2807 - accuracy: 0.8936\n",
      "Epoch 8/10\n",
      "16/16 [==============================] - 209s 13s/step - loss: 0.2187 - accuracy: 0.9016\n",
      "Epoch 9/10\n",
      "16/16 [==============================] - 247s 15s/step - loss: 0.2871 - accuracy: 0.8956\n",
      "Epoch 10/10\n",
      "16/16 [==============================] - 206s 13s/step - loss: 0.1987 - accuracy: 0.9237\n"
     ]
    }
   ],
   "source": [
    "history = new_model.fit_generator(generator=train_generator,  epochs=10)"
   ]
  },
  {
   "cell_type": "code",
   "execution_count": 26,
   "metadata": {},
   "outputs": [],
   "source": [
    "def load_img(file):\n",
    "    img = image.load_img(file, target_size=(224,224))\n",
    "    img_array = image.img_to_array(img) # Converting from PIL object into a numpy array\n",
    "    return img_array.reshape(1, 224,224,3)"
   ]
  },
  {
   "cell_type": "code",
   "execution_count": 27,
   "metadata": {},
   "outputs": [
    {
     "data": {
      "text/plain": [
       "array([[6.053816e-09, 1.000000e+00]], dtype=float32)"
      ]
     },
     "execution_count": 27,
     "metadata": {},
     "output_type": "execute_result"
    }
   ],
   "source": [
    "new_model.predict(load_img('./data/hotdog/test/hot_dog/138937.jpg'))"
   ]
  },
  {
   "cell_type": "code",
   "execution_count": null,
   "metadata": {},
   "outputs": [],
   "source": [
    "new"
   ]
  }
 ],
 "metadata": {
  "kernelspec": {
   "display_name": "Python 3",
   "language": "python",
   "name": "python3"
  },
  "language_info": {
   "codemirror_mode": {
    "name": "ipython",
    "version": 3
   },
   "file_extension": ".py",
   "mimetype": "text/x-python",
   "name": "python",
   "nbconvert_exporter": "python",
   "pygments_lexer": "ipython3",
   "version": "3.7.5"
  }
 },
 "nbformat": 4,
 "nbformat_minor": 2
}
