{
 "cells": [
  {
   "cell_type": "markdown",
   "metadata": {},
   "source": [
    "# Intro to Keras\n",
    "\n",
    "We will do our first neural networks."
   ]
  },
  {
   "cell_type": "code",
   "execution_count": 1,
   "metadata": {},
   "outputs": [],
   "source": [
    "import matplotlib.pyplot as plt\n",
    "from tensorflow import keras"
   ]
  },
  {
   "cell_type": "code",
   "execution_count": 2,
   "metadata": {},
   "outputs": [],
   "source": [
    "from sklearn.datasets import load_digits"
   ]
  },
  {
   "cell_type": "code",
   "execution_count": 3,
   "metadata": {},
   "outputs": [],
   "source": [
    "X, y  = load_digits(return_X_y=True)"
   ]
  },
  {
   "cell_type": "code",
   "execution_count": 4,
   "metadata": {},
   "outputs": [
    {
     "data": {
      "text/plain": [
       "(1797, 64)"
      ]
     },
     "execution_count": 4,
     "metadata": {},
     "output_type": "execute_result"
    }
   ],
   "source": [
    "X.shape  # .shape returns the dimensions of the array"
   ]
  },
  {
   "cell_type": "code",
   "execution_count": 5,
   "metadata": {},
   "outputs": [
    {
     "data": {
      "text/plain": [
       "(1797,)"
      ]
     },
     "execution_count": 5,
     "metadata": {},
     "output_type": "execute_result"
    }
   ],
   "source": [
    "y.shape"
   ]
  },
  {
   "cell_type": "code",
   "execution_count": 6,
   "metadata": {},
   "outputs": [],
   "source": [
    "img = X[0].reshape(8,8)"
   ]
  },
  {
   "cell_type": "code",
   "execution_count": 7,
   "metadata": {},
   "outputs": [
    {
     "data": {
      "text/plain": [
       "array([[ 0.,  0.,  5., 13.,  9.,  1.,  0.,  0.],\n",
       "       [ 0.,  0., 13., 15., 10., 15.,  5.,  0.],\n",
       "       [ 0.,  3., 15.,  2.,  0., 11.,  8.,  0.],\n",
       "       [ 0.,  4., 12.,  0.,  0.,  8.,  8.,  0.],\n",
       "       [ 0.,  5.,  8.,  0.,  0.,  9.,  8.,  0.],\n",
       "       [ 0.,  4., 11.,  0.,  1., 12.,  7.,  0.],\n",
       "       [ 0.,  2., 14.,  5., 10., 12.,  0.,  0.],\n",
       "       [ 0.,  0.,  6., 13., 10.,  0.,  0.,  0.]])"
      ]
     },
     "execution_count": 7,
     "metadata": {},
     "output_type": "execute_result"
    }
   ],
   "source": [
    "img"
   ]
  },
  {
   "cell_type": "code",
   "execution_count": 8,
   "metadata": {},
   "outputs": [
    {
     "data": {
      "text/plain": [
       "array([ 0.,  0.,  5., 13.,  9.,  1.,  0.,  0.,  0.,  0., 13., 15., 10.,\n",
       "       15.,  5.,  0.,  0.,  3., 15.,  2.,  0., 11.,  8.,  0.,  0.,  4.,\n",
       "       12.,  0.,  0.,  8.,  8.,  0.,  0.,  5.,  8.,  0.,  0.,  9.,  8.,\n",
       "        0.,  0.,  4., 11.,  0.,  1., 12.,  7.,  0.,  0.,  2., 14.,  5.,\n",
       "       10., 12.,  0.,  0.,  0.,  0.,  6., 13., 10.,  0.,  0.,  0.])"
      ]
     },
     "execution_count": 8,
     "metadata": {},
     "output_type": "execute_result"
    }
   ],
   "source": [
    "X[0]"
   ]
  },
  {
   "cell_type": "code",
   "execution_count": 9,
   "metadata": {},
   "outputs": [
    {
     "data": {
      "text/plain": [
       "<matplotlib.image.AxesImage at 0x189d4b8dfc8>"
      ]
     },
     "execution_count": 9,
     "metadata": {},
     "output_type": "execute_result"
    },
    {
     "data": {
      "image/png": "[encoded data removed]",
      "text/plain": [
       "<Figure size 432x288 with 1 Axes>"
      ]
     },
     "metadata": {
      "needs_background": "light"
     },
     "output_type": "display_data"
    }
   ],
   "source": [
    "plt.imshow(img, cmap='gray')"
   ]
  },
  {
   "cell_type": "code",
   "execution_count": 10,
   "metadata": {},
   "outputs": [
    {
     "data": {
      "text/plain": [
       "0"
      ]
     },
     "execution_count": 10,
     "metadata": {},
     "output_type": "execute_result"
    }
   ],
   "source": [
    "y[0]"
   ]
  },
  {
   "cell_type": "markdown",
   "metadata": {},
   "source": [
    "**Goal:** Create a model that estimates the class to which one digit belongs. As estimator, we will use neural networks.\n",
    "\n",
    "- Separate in train and test data.\n",
    "- Determine a structure for the model.\n",
    "- Specify some performance criteria.\n",
    "- Create model on train data.\n",
    "- Validate / sanity check on the model using the test data."
   ]
  },
  {
   "cell_type": "markdown",
   "metadata": {},
   "source": [
    "### Split into train and test data\n",
    "- Should be randomly split to avoid bias on the data.\n",
    "- Random seed should be specified."
   ]
  },
  {
   "cell_type": "code",
   "execution_count": 11,
   "metadata": {},
   "outputs": [],
   "source": [
    "from sklearn.model_selection import train_test_split"
   ]
  },
  {
   "cell_type": "code",
   "execution_count": 12,
   "metadata": {},
   "outputs": [],
   "source": [
    "X_train, X_test, y_train, y_test = train_test_split(X,y, random_state=123, train_size=0.8)"
   ]
  },
  {
   "cell_type": "code",
   "execution_count": 13,
   "metadata": {},
   "outputs": [
    {
     "data": {
      "text/plain": [
       "(1437, 64)"
      ]
     },
     "execution_count": 13,
     "metadata": {},
     "output_type": "execute_result"
    }
   ],
   "source": [
    "X_train.shape"
   ]
  },
  {
   "cell_type": "code",
   "execution_count": 14,
   "metadata": {},
   "outputs": [
    {
     "data": {
      "text/plain": [
       "(360, 64)"
      ]
     },
     "execution_count": 14,
     "metadata": {},
     "output_type": "execute_result"
    }
   ],
   "source": [
    "X_test.shape"
   ]
  },
  {
   "cell_type": "markdown",
   "metadata": {},
   "source": [
    "### Define the structure of the model"
   ]
  },
  {
   "cell_type": "code",
   "execution_count": 15,
   "metadata": {},
   "outputs": [],
   "source": [
    "# First way of specifying the model\n",
    "model = keras.models.Sequential()\n",
    "model.add(keras.layers.Dense(4, input_shape=(64,),activation='relu')) # 1 layer, 4 neurons\n",
    "model.add(keras.layers.Dense(10, activation='softmax'))"
   ]
  },
  {
   "cell_type": "code",
   "execution_count": 16,
   "metadata": {},
   "outputs": [
    {
     "name": "stdout",
     "output_type": "stream",
     "text": [
      "Model: \"sequential\"\n",
      "_________________________________________________________________\n",
      "Layer (type)                 Output Shape              Param #   \n",
      "=================================================================\n",
      "dense (Dense)                (None, 4)                 260       \n",
      "_________________________________________________________________\n",
      "dense_1 (Dense)              (None, 10)                50        \n",
      "=================================================================\n",
      "Total params: 310\n",
      "Trainable params: 310\n",
      "Non-trainable params: 0\n",
      "_________________________________________________________________\n"
     ]
    }
   ],
   "source": [
    "model.summary()"
   ]
  },
  {
   "cell_type": "markdown",
   "metadata": {},
   "source": [
    "### Specify performance criteria \n"
   ]
  },
  {
   "cell_type": "code",
   "execution_count": 17,
   "metadata": {},
   "outputs": [],
   "source": [
    "model.compile(loss=\"sparse_categorical_crossentropy\",  # metric for classification in more than 2 classes\n",
    "              metrics=[\"accuracy\"]\n",
    "             ) "
   ]
  },
  {
   "cell_type": "markdown",
   "metadata": {},
   "source": [
    "### Train our model in the training data"
   ]
  },
  {
   "cell_type": "code",
   "execution_count": 18,
   "metadata": {},
   "outputs": [
    {
     "name": "stdout",
     "output_type": "stream",
     "text": [
      "Train on 1293 samples, validate on 144 samples\n",
      "Epoch 1/100\n",
      "1293/1293 [==============================] - 1s 639us/sample - loss: 3.2283 - accuracy: 0.1338 - val_loss: 2.5018 - val_accuracy: 0.1389\n",
      "Epoch 2/100\n",
      "1293/1293 [==============================] - 0s 87us/sample - loss: 2.3270 - accuracy: 0.1423 - val_loss: 2.2487 - val_accuracy: 0.1528\n",
      "Epoch 3/100\n",
      "1293/1293 [==============================] - 0s 99us/sample - loss: 2.2058 - accuracy: 0.1678 - val_loss: 2.1516 - val_accuracy: 0.1736\n",
      "Epoch 4/100\n",
      "1293/1293 [==============================] - 0s 120us/sample - loss: 2.1295 - accuracy: 0.1895 - val_loss: 2.0704 - val_accuracy: 0.2708\n",
      "Epoch 5/100\n",
      "1293/1293 [==============================] - 0s 139us/sample - loss: 2.0598 - accuracy: 0.2274 - val_loss: 1.9588 - val_accuracy: 0.3125\n",
      "Epoch 6/100\n",
      "1293/1293 [==============================] - 0s 108us/sample - loss: 1.9819 - accuracy: 0.2521 - val_loss: 1.9099 - val_accuracy: 0.3194\n",
      "Epoch 7/100\n",
      "1293/1293 [==============================] - 0s 147us/sample - loss: 1.8991 - accuracy: 0.2831 - val_loss: 1.8490 - val_accuracy: 0.3264\n",
      "Epoch 8/100\n",
      "1293/1293 [==============================] - 0s 148us/sample - loss: 1.8099 - accuracy: 0.3132 - val_loss: 1.7924 - val_accuracy: 0.3611\n",
      "Epoch 9/100\n",
      "1293/1293 [==============================] - 0s 155us/sample - loss: 1.7207 - accuracy: 0.3449 - val_loss: 1.7336 - val_accuracy: 0.3681\n",
      "Epoch 10/100\n",
      "1293/1293 [==============================] - 0s 137us/sample - loss: 1.6532 - accuracy: 0.3496 - val_loss: 1.6949 - val_accuracy: 0.3750\n",
      "Epoch 11/100\n",
      "1293/1293 [==============================] - 0s 138us/sample - loss: 1.6034 - accuracy: 0.3720 - val_loss: 1.6615 - val_accuracy: 0.3403\n",
      "Epoch 12/100\n",
      "1293/1293 [==============================] - 0s 112us/sample - loss: 1.5637 - accuracy: 0.4084 - val_loss: 1.6516 - val_accuracy: 0.3472\n",
      "Epoch 13/100\n",
      "1293/1293 [==============================] - 0s 123us/sample - loss: 1.5337 - accuracy: 0.4045 - val_loss: 1.6185 - val_accuracy: 0.3542\n",
      "Epoch 14/100\n",
      "1293/1293 [==============================] - 0s 129us/sample - loss: 1.5069 - accuracy: 0.4184 - val_loss: 1.6256 - val_accuracy: 0.3611\n",
      "Epoch 15/100\n",
      "1293/1293 [==============================] - 0s 159us/sample - loss: 1.4856 - accuracy: 0.4169 - val_loss: 1.5971 - val_accuracy: 0.3681\n",
      "Epoch 16/100\n",
      "1293/1293 [==============================] - 0s 159us/sample - loss: 1.4649 - accuracy: 0.4207 - val_loss: 1.5850 - val_accuracy: 0.3611\n",
      "Epoch 17/100\n",
      "1293/1293 [==============================] - 0s 166us/sample - loss: 1.4481 - accuracy: 0.4192 - val_loss: 1.5671 - val_accuracy: 0.3542\n",
      "Epoch 18/100\n",
      "1293/1293 [==============================] - 0s 154us/sample - loss: 1.4318 - accuracy: 0.4207 - val_loss: 1.5418 - val_accuracy: 0.3681\n",
      "Epoch 19/100\n",
      "1293/1293 [==============================] - 0s 140us/sample - loss: 1.4178 - accuracy: 0.4254 - val_loss: 1.5507 - val_accuracy: 0.3472\n",
      "Epoch 20/100\n",
      "1293/1293 [==============================] - 0s 146us/sample - loss: 1.4053 - accuracy: 0.4277 - val_loss: 1.5349 - val_accuracy: 0.3542\n",
      "Epoch 21/100\n",
      "1293/1293 [==============================] - 0s 142us/sample - loss: 1.3914 - accuracy: 0.4339 - val_loss: 1.5165 - val_accuracy: 0.3542\n",
      "Epoch 22/100\n",
      "1293/1293 [==============================] - 0s 140us/sample - loss: 1.3798 - accuracy: 0.4323 - val_loss: 1.5058 - val_accuracy: 0.3681\n",
      "Epoch 23/100\n",
      "1293/1293 [==============================] - 0s 143us/sample - loss: 1.3691 - accuracy: 0.4401 - val_loss: 1.4949 - val_accuracy: 0.3819\n",
      "Epoch 24/100\n",
      "1293/1293 [==============================] - 0s 156us/sample - loss: 1.3579 - accuracy: 0.4393 - val_loss: 1.4845 - val_accuracy: 0.3750\n",
      "Epoch 25/100\n",
      "1293/1293 [==============================] - 0s 140us/sample - loss: 1.3467 - accuracy: 0.4470 - val_loss: 1.4741 - val_accuracy: 0.3819\n",
      "Epoch 26/100\n",
      "1293/1293 [==============================] - 0s 152us/sample - loss: 1.3357 - accuracy: 0.4548 - val_loss: 1.4700 - val_accuracy: 0.3542\n",
      "Epoch 27/100\n",
      "1293/1293 [==============================] - 0s 148us/sample - loss: 1.3249 - accuracy: 0.4664 - val_loss: 1.4490 - val_accuracy: 0.3819\n",
      "Epoch 28/100\n",
      "1293/1293 [==============================] - 0s 138us/sample - loss: 1.3142 - accuracy: 0.4640 - val_loss: 1.4542 - val_accuracy: 0.3611\n",
      "Epoch 29/100\n",
      "1293/1293 [==============================] - 0s 142us/sample - loss: 1.3044 - accuracy: 0.4702 - val_loss: 1.4357 - val_accuracy: 0.3472\n",
      "Epoch 30/100\n",
      "1293/1293 [==============================] - 0s 130us/sample - loss: 1.2933 - accuracy: 0.4772 - val_loss: 1.4235 - val_accuracy: 0.3542\n",
      "Epoch 31/100\n",
      "1293/1293 [==============================] - 0s 153us/sample - loss: 1.2805 - accuracy: 0.4826 - val_loss: 1.4085 - val_accuracy: 0.3403\n",
      "Epoch 32/100\n",
      "1293/1293 [==============================] - 0s 128us/sample - loss: 1.2717 - accuracy: 0.4834 - val_loss: 1.4157 - val_accuracy: 0.3611\n",
      "Epoch 33/100\n",
      "1293/1293 [==============================] - 0s 145us/sample - loss: 1.2635 - accuracy: 0.4888 - val_loss: 1.3998 - val_accuracy: 0.3819\n",
      "Epoch 34/100\n",
      "1293/1293 [==============================] - 0s 130us/sample - loss: 1.2511 - accuracy: 0.4888 - val_loss: 1.3913 - val_accuracy: 0.3819\n",
      "Epoch 35/100\n",
      "1293/1293 [==============================] - ETA: 0s - loss: 1.2467 - accuracy: 0.49 - 0s 130us/sample - loss: 1.2434 - accuracy: 0.4981 - val_loss: 1.3777 - val_accuracy: 0.3611\n",
      "Epoch 36/100\n",
      "1293/1293 [==============================] - 0s 126us/sample - loss: 1.2319 - accuracy: 0.5012 - val_loss: 1.3791 - val_accuracy: 0.3958\n",
      "Epoch 37/100\n",
      "1293/1293 [==============================] - 0s 117us/sample - loss: 1.2205 - accuracy: 0.5143 - val_loss: 1.3572 - val_accuracy: 0.3819\n",
      "Epoch 38/100\n",
      "1293/1293 [==============================] - 0s 106us/sample - loss: 1.2144 - accuracy: 0.5128 - val_loss: 1.3568 - val_accuracy: 0.4167\n",
      "Epoch 39/100\n",
      "1293/1293 [==============================] - 0s 105us/sample - loss: 1.2030 - accuracy: 0.5189 - val_loss: 1.3437 - val_accuracy: 0.3889\n",
      "Epoch 40/100\n",
      "1293/1293 [==============================] - 0s 102us/sample - loss: 1.1927 - accuracy: 0.5120 - val_loss: 1.3272 - val_accuracy: 0.4028\n",
      "Epoch 41/100\n",
      "1293/1293 [==============================] - 0s 98us/sample - loss: 1.1863 - accuracy: 0.5305 - val_loss: 1.3294 - val_accuracy: 0.4028\n",
      "Epoch 42/100\n",
      "1293/1293 [==============================] - 0s 100us/sample - loss: 1.1775 - accuracy: 0.5329 - val_loss: 1.3167 - val_accuracy: 0.3958\n",
      "Epoch 43/100\n",
      "1293/1293 [==============================] - 0s 95us/sample - loss: 1.1694 - accuracy: 0.5290 - val_loss: 1.3183 - val_accuracy: 0.4306\n",
      "Epoch 44/100\n",
      "1293/1293 [==============================] - 0s 98us/sample - loss: 1.1626 - accuracy: 0.5391 - val_loss: 1.3142 - val_accuracy: 0.4306\n",
      "Epoch 45/100\n",
      "1293/1293 [==============================] - 0s 98us/sample - loss: 1.1551 - accuracy: 0.5398 - val_loss: 1.2948 - val_accuracy: 0.4236\n",
      "Epoch 46/100\n",
      "1293/1293 [==============================] - 0s 96us/sample - loss: 1.1478 - accuracy: 0.5468 - val_loss: 1.3092 - val_accuracy: 0.4306\n",
      "Epoch 47/100\n",
      "1293/1293 [==============================] - 0s 90us/sample - loss: 1.1426 - accuracy: 0.5367 - val_loss: 1.2880 - val_accuracy: 0.4306\n",
      "Epoch 48/100\n",
      "1293/1293 [==============================] - 0s 94us/sample - loss: 1.1343 - accuracy: 0.5468 - val_loss: 1.2880 - val_accuracy: 0.4444\n",
      "Epoch 49/100\n",
      "1293/1293 [==============================] - 0s 91us/sample - loss: 1.1274 - accuracy: 0.5568 - val_loss: 1.2758 - val_accuracy: 0.4653\n",
      "Epoch 50/100\n",
      "1293/1293 [==============================] - 0s 96us/sample - loss: 1.1212 - accuracy: 0.5545 - val_loss: 1.2829 - val_accuracy: 0.4583\n",
      "Epoch 51/100\n",
      "1293/1293 [==============================] - 0s 90us/sample - loss: 1.1161 - accuracy: 0.5630 - val_loss: 1.2812 - val_accuracy: 0.4653\n",
      "Epoch 52/100\n",
      "1293/1293 [==============================] - 0s 93us/sample - loss: 1.1096 - accuracy: 0.5700 - val_loss: 1.2773 - val_accuracy: 0.4514\n",
      "Epoch 53/100\n",
      "1293/1293 [==============================] - 0s 101us/sample - loss: 1.1029 - accuracy: 0.5715 - val_loss: 1.2644 - val_accuracy: 0.4931\n",
      "Epoch 54/100\n",
      "1293/1293 [==============================] - 0s 106us/sample - loss: 1.0955 - accuracy: 0.5708 - val_loss: 1.2544 - val_accuracy: 0.4931\n",
      "Epoch 55/100\n"
     ]
    },
    {
     "name": "stdout",
     "output_type": "stream",
     "text": [
      "1293/1293 [==============================] - 0s 100us/sample - loss: 1.0912 - accuracy: 0.5770 - val_loss: 1.2562 - val_accuracy: 0.4792\n",
      "Epoch 56/100\n",
      "1293/1293 [==============================] - 0s 105us/sample - loss: 1.0862 - accuracy: 0.5824 - val_loss: 1.2448 - val_accuracy: 0.5139\n",
      "Epoch 57/100\n",
      "1293/1293 [==============================] - 0s 113us/sample - loss: 1.0783 - accuracy: 0.5800 - val_loss: 1.2415 - val_accuracy: 0.5208\n",
      "Epoch 58/100\n",
      "1293/1293 [==============================] - 0s 105us/sample - loss: 1.0734 - accuracy: 0.5770 - val_loss: 1.2437 - val_accuracy: 0.5208\n",
      "Epoch 59/100\n",
      "1293/1293 [==============================] - 0s 91us/sample - loss: 1.0683 - accuracy: 0.5831 - val_loss: 1.2275 - val_accuracy: 0.5278\n",
      "Epoch 60/100\n",
      "1293/1293 [==============================] - 0s 104us/sample - loss: 1.0635 - accuracy: 0.5777 - val_loss: 1.2392 - val_accuracy: 0.5000\n",
      "Epoch 61/100\n",
      "1293/1293 [==============================] - 0s 98us/sample - loss: 1.0563 - accuracy: 0.5855 - val_loss: 1.2249 - val_accuracy: 0.5347\n",
      "Epoch 62/100\n",
      "1293/1293 [==============================] - 0s 116us/sample - loss: 1.0552 - accuracy: 0.5824 - val_loss: 1.2124 - val_accuracy: 0.5347\n",
      "Epoch 63/100\n",
      "1293/1293 [==============================] - 0s 110us/sample - loss: 1.0477 - accuracy: 0.5839 - val_loss: 1.2221 - val_accuracy: 0.5347\n",
      "Epoch 64/100\n",
      "1293/1293 [==============================] - 0s 106us/sample - loss: 1.0455 - accuracy: 0.5878 - val_loss: 1.2097 - val_accuracy: 0.5278\n",
      "Epoch 65/100\n",
      "1293/1293 [==============================] - 0s 107us/sample - loss: 1.0395 - accuracy: 0.5808 - val_loss: 1.1930 - val_accuracy: 0.5347\n",
      "Epoch 66/100\n",
      "1293/1293 [==============================] - 0s 105us/sample - loss: 1.0331 - accuracy: 0.5870 - val_loss: 1.2210 - val_accuracy: 0.5208\n",
      "Epoch 67/100\n",
      "1293/1293 [==============================] - 0s 102us/sample - loss: 1.0328 - accuracy: 0.5855 - val_loss: 1.1926 - val_accuracy: 0.5347\n",
      "Epoch 68/100\n",
      "1293/1293 [==============================] - 0s 109us/sample - loss: 1.0271 - accuracy: 0.5870 - val_loss: 1.1722 - val_accuracy: 0.5278\n",
      "Epoch 69/100\n",
      "1293/1293 [==============================] - 0s 104us/sample - loss: 1.0217 - accuracy: 0.5916 - val_loss: 1.1772 - val_accuracy: 0.5625\n",
      "Epoch 70/100\n",
      "1293/1293 [==============================] - 0s 98us/sample - loss: 1.0191 - accuracy: 0.5839 - val_loss: 1.1785 - val_accuracy: 0.5556\n",
      "Epoch 71/100\n",
      "1293/1293 [==============================] - 0s 102us/sample - loss: 1.0154 - accuracy: 0.5971 - val_loss: 1.1678 - val_accuracy: 0.5278\n",
      "Epoch 72/100\n",
      "1293/1293 [==============================] - 0s 100us/sample - loss: 1.0126 - accuracy: 0.5886 - val_loss: 1.1840 - val_accuracy: 0.5278\n",
      "Epoch 73/100\n",
      "1293/1293 [==============================] - 0s 103us/sample - loss: 1.0098 - accuracy: 0.5940 - val_loss: 1.1662 - val_accuracy: 0.5278\n",
      "Epoch 74/100\n",
      "1293/1293 [==============================] - 0s 204us/sample - loss: 1.0068 - accuracy: 0.5978 - val_loss: 1.1612 - val_accuracy: 0.5278\n",
      "Epoch 75/100\n",
      "1293/1293 [==============================] - 0s 134us/sample - loss: 1.0034 - accuracy: 0.5870 - val_loss: 1.1430 - val_accuracy: 0.5486\n",
      "Epoch 76/100\n",
      "1293/1293 [==============================] - 0s 110us/sample - loss: 0.9990 - accuracy: 0.5901 - val_loss: 1.1496 - val_accuracy: 0.5486\n",
      "Epoch 77/100\n",
      "1293/1293 [==============================] - 0s 109us/sample - loss: 0.9979 - accuracy: 0.6032 - val_loss: 1.1555 - val_accuracy: 0.5278\n",
      "Epoch 78/100\n",
      "1293/1293 [==============================] - 0s 107us/sample - loss: 0.9937 - accuracy: 0.5963 - val_loss: 1.1382 - val_accuracy: 0.5417\n",
      "Epoch 79/100\n",
      "1293/1293 [==============================] - 0s 106us/sample - loss: 0.9909 - accuracy: 0.5855 - val_loss: 1.1611 - val_accuracy: 0.5347\n",
      "Epoch 80/100\n",
      "1293/1293 [==============================] - 0s 97us/sample - loss: 0.9895 - accuracy: 0.6056 - val_loss: 1.1457 - val_accuracy: 0.5417\n",
      "Epoch 81/100\n",
      "1293/1293 [==============================] - 0s 104us/sample - loss: 0.9846 - accuracy: 0.6009 - val_loss: 1.1635 - val_accuracy: 0.5208\n",
      "Epoch 82/100\n",
      "1293/1293 [==============================] - 0s 102us/sample - loss: 0.9826 - accuracy: 0.6025 - val_loss: 1.1499 - val_accuracy: 0.5139\n",
      "Epoch 83/100\n",
      "1293/1293 [==============================] - 0s 101us/sample - loss: 0.9815 - accuracy: 0.5932 - val_loss: 1.1431 - val_accuracy: 0.5278\n",
      "Epoch 84/100\n",
      "1293/1293 [==============================] - 0s 96us/sample - loss: 0.9779 - accuracy: 0.6094 - val_loss: 1.1395 - val_accuracy: 0.5278\n",
      "Epoch 85/100\n",
      "1293/1293 [==============================] - 0s 96us/sample - loss: 0.9774 - accuracy: 0.6025 - val_loss: 1.1321 - val_accuracy: 0.5347\n",
      "Epoch 86/100\n",
      "1293/1293 [==============================] - 0s 93us/sample - loss: 0.9743 - accuracy: 0.6071 - val_loss: 1.1259 - val_accuracy: 0.5556\n",
      "Epoch 87/100\n",
      "1293/1293 [==============================] - 0s 97us/sample - loss: 0.9724 - accuracy: 0.5986 - val_loss: 1.1323 - val_accuracy: 0.5486\n",
      "Epoch 88/100\n",
      "1293/1293 [==============================] - 0s 110us/sample - loss: 0.9681 - accuracy: 0.6087 - val_loss: 1.1286 - val_accuracy: 0.5556\n",
      "Epoch 89/100\n",
      "1293/1293 [==============================] - 0s 102us/sample - loss: 0.9665 - accuracy: 0.6025 - val_loss: 1.1269 - val_accuracy: 0.5486\n",
      "Epoch 90/100\n",
      "1293/1293 [==============================] - 0s 100us/sample - loss: 0.9657 - accuracy: 0.6156 - val_loss: 1.1418 - val_accuracy: 0.5417\n",
      "Epoch 91/100\n",
      "1293/1293 [==============================] - 0s 106us/sample - loss: 0.9647 - accuracy: 0.6025 - val_loss: 1.1429 - val_accuracy: 0.5139\n",
      "Epoch 92/100\n",
      "1293/1293 [==============================] - 0s 95us/sample - loss: 0.9632 - accuracy: 0.5971 - val_loss: 1.1150 - val_accuracy: 0.5278\n",
      "Epoch 93/100\n",
      "1293/1293 [==============================] - 0s 94us/sample - loss: 0.9613 - accuracy: 0.5986 - val_loss: 1.1234 - val_accuracy: 0.5486\n",
      "Epoch 94/100\n",
      "1293/1293 [==============================] - 0s 95us/sample - loss: 0.9589 - accuracy: 0.6071 - val_loss: 1.1319 - val_accuracy: 0.5347\n",
      "Epoch 95/100\n",
      "1293/1293 [==============================] - 0s 92us/sample - loss: 0.9563 - accuracy: 0.6063 - val_loss: 1.1248 - val_accuracy: 0.5347\n",
      "Epoch 96/100\n",
      "1293/1293 [==============================] - 0s 98us/sample - loss: 0.9551 - accuracy: 0.6017 - val_loss: 1.1185 - val_accuracy: 0.5347\n",
      "Epoch 97/100\n",
      "1293/1293 [==============================] - 0s 93us/sample - loss: 0.9520 - accuracy: 0.6148 - val_loss: 1.1331 - val_accuracy: 0.5347\n",
      "Epoch 98/100\n",
      "1293/1293 [==============================] - 0s 94us/sample - loss: 0.9504 - accuracy: 0.6094 - val_loss: 1.1208 - val_accuracy: 0.5417\n",
      "Epoch 99/100\n",
      "1293/1293 [==============================] - 0s 96us/sample - loss: 0.9498 - accuracy: 0.6110 - val_loss: 1.1224 - val_accuracy: 0.5556\n",
      "Epoch 100/100\n",
      "1293/1293 [==============================] - 0s 91us/sample - loss: 0.9450 - accuracy: 0.6133 - val_loss: 1.1289 - val_accuracy: 0.5347\n"
     ]
    }
   ],
   "source": [
    "history = model.fit(X_train, y_train, epochs=100, validation_split=0.1)"
   ]
  },
  {
   "cell_type": "code",
   "execution_count": 19,
   "metadata": {},
   "outputs": [],
   "source": [
    "import pandas as pd"
   ]
  },
  {
   "cell_type": "code",
   "execution_count": 20,
   "metadata": {},
   "outputs": [
    {
     "data": {
      "text/plain": [
       "<matplotlib.axes._subplots.AxesSubplot at 0x189d4cc3288>"
      ]
     },
     "execution_count": 20,
     "metadata": {},
     "output_type": "execute_result"
    },
    {
     "data": {
      "image/png": "[encoded data removed]",
      "text/plain": [
       "<Figure size 432x288 with 1 Axes>"
      ]
     },
     "metadata": {
      "needs_background": "light"
     },
     "output_type": "display_data"
    }
   ],
   "source": [
    "pd.DataFrame(history.history)[['loss', 'val_loss']].plot()"
   ]
  },
  {
   "cell_type": "code",
   "execution_count": 24,
   "metadata": {},
   "outputs": [],
   "source": [
    "import numpy as np"
   ]
  },
  {
   "cell_type": "code",
   "execution_count": 25,
   "metadata": {},
   "outputs": [
    {
     "data": {
      "text/plain": [
       "<matplotlib.axes._subplots.AxesSubplot at 0x189d809e3c8>"
      ]
     },
     "execution_count": 25,
     "metadata": {},
     "output_type": "execute_result"
    },
    {
     "data": {
      "image/png": "[encoded data removed]",
      "text/plain": [
       "<Figure size 432x288 with 1 Axes>"
      ]
     },
     "metadata": {
      "needs_background": "light"
     },
     "output_type": "display_data"
    }
   ],
   "source": [
    "pd.DataFrame(history.history)[['loss', 'val_loss']].apply(np.log).plot()"
   ]
  },
  {
   "cell_type": "markdown",
   "metadata": {},
   "source": [
    "### Validate the model we trained"
   ]
  },
  {
   "cell_type": "code",
   "execution_count": 26,
   "metadata": {},
   "outputs": [],
   "source": [
    "y_pred_proba = model.predict(X_test)"
   ]
  },
  {
   "cell_type": "code",
   "execution_count": 35,
   "metadata": {},
   "outputs": [],
   "source": [
    "y_pred = np.argmax(y_pred_proba, axis=1)"
   ]
  },
  {
   "cell_type": "code",
   "execution_count": 51,
   "metadata": {},
   "outputs": [
    {
     "data": {
      "text/plain": [
       "array([3, 9, 4, 4, 4, 9, 7, 0, 2, 4, 0, 6, 5, 7, 6, 0, 9, 1, 0, 6, 9, 7,\n",
       "       7, 5, 4, 6, 7, 0, 0, 9, 7, 6, 3, 6, 7, 4, 6, 7, 7, 6, 0, 6, 7, 0,\n",
       "       7, 3, 9, 5, 3, 8, 7, 4, 6, 5, 1, 6, 4, 6, 0, 4, 3, 5, 4, 7, 8, 4,\n",
       "       7, 2, 0, 7, 3, 9, 4, 3, 3, 9, 4, 3, 3, 7, 3, 0, 4, 0, 7, 7, 4, 7,\n",
       "       4, 5, 7, 4, 7, 7, 6, 7, 5, 5, 7, 9, 5, 4, 6, 6, 3, 7, 2, 5, 6, 4,\n",
       "       9, 8, 7, 0, 9, 0, 7, 5, 0, 5, 7, 4, 4, 7, 7, 0, 7, 9, 4, 3, 7, 3,\n",
       "       7, 9, 9, 9, 6, 7, 4, 0, 7, 9, 7, 3, 7, 2, 8, 7, 1, 7, 5, 7, 9, 7,\n",
       "       9, 7, 6, 0, 7, 9, 6, 0, 7, 6, 9, 7, 0, 5, 3, 6, 1, 8, 6, 7, 3, 4,\n",
       "       4, 7, 0, 5, 3, 0, 8, 0, 7, 5, 3, 4, 8, 8, 3, 7, 5, 3, 7, 0, 9, 4,\n",
       "       9, 4, 2, 7, 7, 0, 3, 4, 5, 7, 7, 7, 1, 7, 0, 7, 2, 9, 3, 5, 7, 3,\n",
       "       8, 0, 6, 0, 7, 5, 7, 0, 4, 3, 0, 7, 5, 5, 0, 9, 9, 7, 7, 7, 4, 7,\n",
       "       4, 7, 7, 3, 0, 1, 7, 3, 6, 6, 9, 5, 6, 4, 5, 4, 6, 9, 7, 7, 9, 9,\n",
       "       7, 0, 4, 6, 7, 7, 3, 5, 3, 8, 0, 4, 9, 6, 8, 7, 5, 7, 4, 0, 7, 9,\n",
       "       7, 6, 1, 4, 4, 7, 1, 6, 0, 4, 3, 5, 8, 5, 7, 6, 0, 7, 5, 5, 7, 8,\n",
       "       7, 6, 0, 7, 7, 9, 6, 6, 9, 7, 7, 7, 4, 9, 3, 3, 9, 9, 7, 4, 0, 3,\n",
       "       4, 9, 6, 0, 7, 7, 9, 3, 7, 5, 3, 0, 9, 5, 5, 7, 6, 4, 7, 9, 0, 7,\n",
       "       4, 7, 9, 3, 6, 0, 0, 0], dtype=int64)"
      ]
     },
     "execution_count": 51,
     "metadata": {},
     "output_type": "execute_result"
    }
   ],
   "source": [
    "y_pred"
   ]
  },
  {
   "cell_type": "code",
   "execution_count": 38,
   "metadata": {},
   "outputs": [],
   "source": [
    "from sklearn.metrics import confusion_matrix"
   ]
  },
  {
   "cell_type": "code",
   "execution_count": 39,
   "metadata": {},
   "outputs": [
    {
     "data": {
      "text/plain": [
       "array([[37,  0,  0,  0,  0,  1,  1,  0,  0,  0],\n",
       "       [ 0,  3,  0,  1,  1,  0,  1, 27,  1,  0],\n",
       "       [ 0,  0,  1,  2,  0,  0,  0, 33,  0,  0],\n",
       "       [ 0,  0,  1, 13,  0,  0,  0,  0,  1, 18],\n",
       "       [ 0,  2,  0,  0, 39,  0,  0,  1,  0,  0],\n",
       "       [ 5,  0,  0,  2,  0, 24,  1,  0,  0,  5],\n",
       "       [ 3,  1,  0,  0,  3,  0, 35,  1,  0,  0],\n",
       "       [ 0,  1,  3,  2,  0,  0,  0, 23,  1,  1],\n",
       "       [ 0,  1,  1, 10,  2,  2,  0, 10, 10,  1],\n",
       "       [ 0,  0,  0,  6,  0,  6,  0,  0,  0, 16]], dtype=int64)"
      ]
     },
     "execution_count": 39,
     "metadata": {},
     "output_type": "execute_result"
    }
   ],
   "source": [
    "confusion_matrix(y_test, y_pred)"
   ]
  },
  {
   "cell_type": "code",
   "execution_count": 46,
   "metadata": {},
   "outputs": [],
   "source": [
    "idxs = (y_test == 1) & (y_pred == 7)"
   ]
  },
  {
   "cell_type": "code",
   "execution_count": 48,
   "metadata": {},
   "outputs": [
    {
     "data": {
      "text/plain": [
       "True"
      ]
     },
     "execution_count": 48,
     "metadata": {},
     "output_type": "execute_result"
    }
   ],
   "source": [
    "idxs[6]"
   ]
  },
  {
   "cell_type": "code",
   "execution_count": 50,
   "metadata": {},
   "outputs": [
    {
     "data": {
      "text/plain": [
       "<matplotlib.image.AxesImage at 0x189dc4cf888>"
      ]
     },
     "execution_count": 50,
     "metadata": {},
     "output_type": "execute_result"
    },
    {
     "data": {
      "image/png": "[encoded data removed]",
      "text/plain": [
       "<Figure size 432x288 with 1 Axes>"
      ]
     },
     "metadata": {
      "needs_background": "light"
     },
     "output_type": "display_data"
    }
   ],
   "source": [
    "plt.imshow(X_test[6].reshape(8,8), cmap='gray')"
   ]
  },
  {
   "cell_type": "code",
   "execution_count": null,
   "metadata": {},
   "outputs": [],
   "source": [
    "model.fit()"
   ]
  }
 ],
 "metadata": {
  "kernelspec": {
   "display_name": "Python 3",
   "language": "python",
   "name": "python3"
  },
  "language_info": {
   "codemirror_mode": {
    "name": "ipython",
    "version": 3
   },
   "file_extension": ".py",
   "mimetype": "text/x-python",
   "name": "python",
   "nbconvert_exporter": "python",
   "pygments_lexer": "ipython3",
   "version": "3.7.5"
  }
 },
 "nbformat": 4,
 "nbformat_minor": 2
}
