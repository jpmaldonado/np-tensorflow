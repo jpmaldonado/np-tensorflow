{
 "cells": [
  {
   "cell_type": "code",
   "execution_count": 69,
   "metadata": {},
   "outputs": [],
   "source": [
    "import numpy as np\n",
    "import pandas as pd\n",
    "import matplotlib.pyplot as plt\n",
    "from sklearn.model_selection import train_test_split"
   ]
  },
  {
   "cell_type": "code",
   "execution_count": 2,
   "metadata": {},
   "outputs": [],
   "source": [
    "df = pd.read_csv(\"./data/fashion/fashion-mnist_test.csv\")"
   ]
  },
  {
   "cell_type": "code",
   "execution_count": 4,
   "metadata": {},
   "outputs": [],
   "source": [
    "X = df.iloc[:,1:].values\n",
    "y = df.iloc[:,0].values"
   ]
  },
  {
   "cell_type": "code",
   "execution_count": 5,
   "metadata": {},
   "outputs": [],
   "source": [
    "X_train, X_test, y_train, y_test = train_test_split(X,y, random_state=123)"
   ]
  },
  {
   "cell_type": "code",
   "execution_count": 9,
   "metadata": {},
   "outputs": [
    {
     "data": {
      "text/plain": [
       "<matplotlib.image.AxesImage at 0x1d7d53668c8>"
      ]
     },
     "execution_count": 9,
     "metadata": {},
     "output_type": "execute_result"
    },
    {
     "data": {
      "image/png": "[encoded data removed]",
      "text/plain": [
       "<Figure size 432x288 with 1 Axes>"
      ]
     },
     "metadata": {
      "needs_background": "light"
     },
     "output_type": "display_data"
    }
   ],
   "source": [
    "plt.imshow(X_train[1].reshape(28,28), cmap='gray')"
   ]
  },
  {
   "cell_type": "code",
   "execution_count": 10,
   "metadata": {},
   "outputs": [
    {
     "data": {
      "text/plain": [
       "7"
      ]
     },
     "execution_count": 10,
     "metadata": {},
     "output_type": "execute_result"
    }
   ],
   "source": [
    "y_train[1]"
   ]
  },
  {
   "cell_type": "code",
   "execution_count": 11,
   "metadata": {},
   "outputs": [
    {
     "data": {
      "text/plain": [
       "{0, 1, 2, 3, 4, 5, 6, 7, 8, 9}"
      ]
     },
     "execution_count": 11,
     "metadata": {},
     "output_type": "execute_result"
    }
   ],
   "source": [
    "set(y)"
   ]
  },
  {
   "cell_type": "markdown",
   "metadata": {},
   "source": [
    "## Diferent types of layers\n",
    "\n",
    "- **Convolutional layer**: several kernels of size `kernel_size` (these are called *filters*) are passed across the image and a scalar matrix product is applied. This has the effect of transforming (filtering). After the convolution, you may apply a non-linear function.\n",
    "\n",
    "- **Pooling layer:** Pass a window across the transformed layers and choose a representative (max pixel value / average pixel value). This has the effect of reducing image size.\n",
    "\n",
    "- **Flatten layer:** Bring everything to a flat vector."
   ]
  },
  {
   "cell_type": "markdown",
   "metadata": {},
   "source": [
    "- Once we have flat vector (through a flattening layer) we can apply dense layers to get to the desired output size (e.g. a vector of size number of classes). \n",
    "- A popular pattern is (Conv, Conv, Pool) followed by (Flatten, Dense, Dense for output)"
   ]
  },
  {
   "cell_type": "markdown",
   "metadata": {},
   "source": [
    "### Example"
   ]
  },
  {
   "cell_type": "code",
   "execution_count": 12,
   "metadata": {},
   "outputs": [],
   "source": [
    "from tensorflow.keras.models import Sequential\n",
    "from tensorflow.keras.layers import Dense, Flatten, Conv2D, MaxPool2D"
   ]
  },
  {
   "cell_type": "code",
   "execution_count": 35,
   "metadata": {},
   "outputs": [],
   "source": [
    "model = Sequential([\n",
    "    Conv2D(filters=32, kernel_size=3, activation='relu', input_shape=(28, 28, 1)),  # (9 weights + 1 bias per layer) * filter\n",
    "    Conv2D(filters=32, kernel_size=3, activation='relu'), # (32*(9 weights) + 1 bias per layer)*32\n",
    "    MaxPool2D(pool_size=2), \n",
    "    Flatten(),\n",
    "    Dense(128, activation='relu'), \n",
    "    Dense(10, activation='softmax')\n",
    "])"
   ]
  },
  {
   "cell_type": "code",
   "execution_count": 36,
   "metadata": {},
   "outputs": [
    {
     "name": "stdout",
     "output_type": "stream",
     "text": [
      "Model: \"sequential_7\"\n",
      "_________________________________________________________________\n",
      "Layer (type)                 Output Shape              Param #   \n",
      "=================================================================\n",
      "conv2d_14 (Conv2D)           (None, 26, 26, 32)        320       \n",
      "_________________________________________________________________\n",
      "conv2d_15 (Conv2D)           (None, 24, 24, 32)        9248      \n",
      "_________________________________________________________________\n",
      "max_pooling2d_7 (MaxPooling2 (None, 12, 12, 32)        0         \n",
      "_________________________________________________________________\n",
      "flatten_7 (Flatten)          (None, 4608)              0         \n",
      "_________________________________________________________________\n",
      "dense_14 (Dense)             (None, 128)               589952    \n",
      "_________________________________________________________________\n",
      "dense_15 (Dense)             (None, 10)                1290      \n",
      "=================================================================\n",
      "Total params: 600,810\n",
      "Trainable params: 600,810\n",
      "Non-trainable params: 0\n",
      "_________________________________________________________________\n"
     ]
    }
   ],
   "source": [
    "model.summary()"
   ]
  },
  {
   "cell_type": "code",
   "execution_count": 72,
   "metadata": {},
   "outputs": [
    {
     "data": {
      "text/plain": [
       "589952"
      ]
     },
     "execution_count": 72,
     "metadata": {},
     "output_type": "execute_result"
    }
   ],
   "source": [
    "128*4608+128 # weights + bias"
   ]
  },
  {
   "cell_type": "code",
   "execution_count": 73,
   "metadata": {},
   "outputs": [
    {
     "data": {
      "text/plain": [
       "1290"
      ]
     },
     "execution_count": 73,
     "metadata": {},
     "output_type": "execute_result"
    }
   ],
   "source": [
    "128*10+10"
   ]
  },
  {
   "cell_type": "markdown",
   "metadata": {},
   "source": [
    "### Reshape the data to fit it into the model"
   ]
  },
  {
   "cell_type": "code",
   "execution_count": 41,
   "metadata": {},
   "outputs": [],
   "source": [
    "X_train = X_train.reshape(-1, 28, 28, 1) # (number of samples, height, width, number of channels)"
   ]
  },
  {
   "cell_type": "code",
   "execution_count": 42,
   "metadata": {},
   "outputs": [],
   "source": [
    "X_test = X_test.reshape(-1, 28, 28, 1)"
   ]
  },
  {
   "cell_type": "code",
   "execution_count": 43,
   "metadata": {},
   "outputs": [],
   "source": [
    "X_train = X_train/255. # Note: This rescaling is suitable for this problem, (assuming range of 0-255)\n",
    "X_test = X_test/255."
   ]
  },
  {
   "cell_type": "code",
   "execution_count": 46,
   "metadata": {},
   "outputs": [],
   "source": [
    "model.compile(loss=\"sparse_categorical_crossentropy\", # loss function for integer-valued categories\n",
    "              metrics=[\"accuracy\", \"mse\"]\n",
    "             )"
   ]
  },
  {
   "cell_type": "code",
   "execution_count": 47,
   "metadata": {},
   "outputs": [
    {
     "name": "stdout",
     "output_type": "stream",
     "text": [
      "Train on 6750 samples, validate on 750 samples\n",
      "Epoch 1/10\n",
      "6750/6750 [==============================] - 10s 2ms/sample - loss: 0.6662 - accuracy: 0.7668 - mse: 27.9470 - val_loss: 0.6354 - val_accuracy: 0.7973 - val_mse: 27.4547\n",
      "Epoch 2/10\n",
      "6750/6750 [==============================] - 11s 2ms/sample - loss: 0.4020 - accuracy: 0.8526 - mse: 27.9600 - val_loss: 0.4486 - val_accuracy: 0.8493 - val_mse: 27.4531\n",
      "Epoch 3/10\n",
      "6750/6750 [==============================] - 12s 2ms/sample - loss: 0.3197 - accuracy: 0.8828 - mse: 27.9636 - val_loss: 0.4452 - val_accuracy: 0.8533 - val_mse: 27.4586\n",
      "Epoch 4/10\n",
      "6750/6750 [==============================] - 12s 2ms/sample - loss: 0.2596 - accuracy: 0.9073 - mse: 27.9666 - val_loss: 0.4585 - val_accuracy: 0.8560 - val_mse: 27.4600\n",
      "Epoch 5/10\n",
      "6750/6750 [==============================] - 11s 2ms/sample - loss: 0.2191 - accuracy: 0.9224 - mse: 27.9687 - val_loss: 0.4220 - val_accuracy: 0.8640 - val_mse: 27.4613\n",
      "Epoch 6/10\n",
      "6750/6750 [==============================] - 11s 2ms/sample - loss: 0.1753 - accuracy: 0.9403 - mse: 27.9706 - val_loss: 0.4944 - val_accuracy: 0.8547 - val_mse: 27.4632\n",
      "Epoch 7/10\n",
      "6750/6750 [==============================] - 11s 2ms/sample - loss: 0.1422 - accuracy: 0.9495 - mse: 27.9722 - val_loss: 0.4964 - val_accuracy: 0.8707 - val_mse: 27.4650\n",
      "Epoch 8/10\n",
      "6750/6750 [==============================] - 11s 2ms/sample - loss: 0.1113 - accuracy: 0.9625 - mse: 27.9741 - val_loss: 0.5328 - val_accuracy: 0.8680 - val_mse: 27.4654\n",
      "Epoch 9/10\n",
      "6750/6750 [==============================] - 11s 2ms/sample - loss: 0.0920 - accuracy: 0.9668 - mse: 27.9752 - val_loss: 0.5302 - val_accuracy: 0.8573 - val_mse: 27.4662\n",
      "Epoch 10/10\n",
      "6750/6750 [==============================] - 12s 2ms/sample - loss: 0.0729 - accuracy: 0.9764 - mse: 27.9764 - val_loss: 0.6051 - val_accuracy: 0.8627 - val_mse: 27.4673\n"
     ]
    }
   ],
   "source": [
    "history = model.fit(X_train, y_train, epochs=10, validation_split=0.1)"
   ]
  },
  {
   "cell_type": "markdown",
   "metadata": {},
   "source": []
  },
  {
   "cell_type": "code",
   "execution_count": 56,
   "metadata": {},
   "outputs": [
    {
     "data": {
      "text/plain": [
       "<matplotlib.image.AxesImage at 0x1d7ff83f148>"
      ]
     },
     "execution_count": 56,
     "metadata": {},
     "output_type": "execute_result"
    },
    {
     "data": {
      "image/png": "[encoded data removed]",
      "text/plain": [
       "<Figure size 432x288 with 1 Axes>"
      ]
     },
     "metadata": {
      "needs_background": "light"
     },
     "output_type": "display_data"
    }
   ],
   "source": [
    "plt.imshow(model.variables[0][:,:,:,0].numpy().reshape(3,3), cmap='gray')"
   ]
  },
  {
   "cell_type": "code",
   "execution_count": 59,
   "metadata": {},
   "outputs": [
    {
     "data": {
      "text/plain": [
       "Text(0.5, 0, 'Number of epochs')"
      ]
     },
     "execution_count": 59,
     "metadata": {},
     "output_type": "execute_result"
    },
    {
     "data": {
      "image/png": "[encoded data removed]",
      "text/plain": [
       "<Figure size 432x288 with 1 Axes>"
      ]
     },
     "metadata": {
      "needs_background": "light"
     },
     "output_type": "display_data"
    }
   ],
   "source": [
    "loss = history.history['loss']\n",
    "val_loss = history.history['val_loss']\n",
    "plt.plot(loss, label='Training loss')\n",
    "plt.plot(val_loss, label='Validation loss')\n",
    "plt.legend()\n",
    "plt.xlabel(\"Number of epochs\")"
   ]
  },
  {
   "cell_type": "code",
   "execution_count": 60,
   "metadata": {},
   "outputs": [
    {
     "data": {
      "text/plain": [
       "(10000, 784)"
      ]
     },
     "execution_count": 60,
     "metadata": {},
     "output_type": "execute_result"
    }
   ],
   "source": [
    "X.shape"
   ]
  },
  {
   "cell_type": "code",
   "execution_count": 62,
   "metadata": {},
   "outputs": [
    {
     "data": {
      "text/plain": [
       "TensorShape([32])"
      ]
     },
     "execution_count": 62,
     "metadata": {},
     "output_type": "execute_result"
    }
   ],
   "source": [
    "model.variables[1].shape"
   ]
  },
  {
   "cell_type": "code",
   "execution_count": 63,
   "metadata": {},
   "outputs": [
    {
     "data": {
      "text/plain": [
       "<tf.Variable 'conv2d_14/bias:0' shape=(32,) dtype=float32, numpy=\n",
       "array([ 0.13592394,  0.00296219, -0.04550339,  0.02113404,  0.02102012,\n",
       "        0.02621662, -0.02569144,  0.08519498,  0.03139615,  0.03493799,\n",
       "        0.01955471,  0.02258873,  0.04484887,  0.01807166,  0.03634767,\n",
       "        0.04005282,  0.01712754, -0.02895989,  0.02858196,  0.02531399,\n",
       "        0.0274888 ,  0.03362659,  0.0419057 ,  0.03598958,  0.04086909,\n",
       "        0.00530077,  0.02926097,  0.04249969,  0.01117446,  0.01804965,\n",
       "        0.01829595, -0.02312437], dtype=float32)>"
      ]
     },
     "execution_count": 63,
     "metadata": {},
     "output_type": "execute_result"
    }
   ],
   "source": [
    "model.variables[1]"
   ]
  },
  {
   "cell_type": "code",
   "execution_count": 65,
   "metadata": {},
   "outputs": [
    {
     "data": {
      "text/plain": [
       "<tf.Variable 'conv2d_15/bias:0' shape=(32,) dtype=float32, numpy=\n",
       "array([ 0.02821031,  0.00642365,  0.0061962 ,  0.01323071,  0.02552228,\n",
       "       -0.02120956,  0.00108451, -0.00327709,  0.01240689,  0.00687037,\n",
       "        0.02280017, -0.02443503,  0.04389071,  0.02765263,  0.00864738,\n",
       "        0.03779798,  0.0184771 ,  0.01851046, -0.02230013, -0.02120984,\n",
       "        0.06434564,  0.03348311, -0.02486005,  0.08925631,  0.0528795 ,\n",
       "       -0.00814272,  0.04208281, -0.00804814,  0.10320524, -0.02599968,\n",
       "        0.06496385, -0.01016939], dtype=float32)>"
      ]
     },
     "execution_count": 65,
     "metadata": {},
     "output_type": "execute_result"
    }
   ],
   "source": [
    "model.variables[3]"
   ]
  },
  {
   "cell_type": "markdown",
   "metadata": {},
   "source": [
    "## Exercise"
   ]
  },
  {
   "cell_type": "markdown",
   "metadata": {},
   "source": [
    "- Try to find a better architecture.\n",
    "- Add another block of (Conv, Conv, Pool) (with more filters).\n",
    "- Add a `BatchNormalization` layer after each convolution layer. (`tensorflow.keras.layers`)\n",
    "- Add a `Dropout` layer, setting up different dropout levels. This should help against overfitting.\n",
    "    - You can add a dropout layer just before the output layer."
   ]
  }
 ],
 "metadata": {
  "kernelspec": {
   "display_name": "Python 3",
   "language": "python",
   "name": "python3"
  },
  "language_info": {
   "codemirror_mode": {
    "name": "ipython",
    "version": 3
   },
   "file_extension": ".py",
   "mimetype": "text/x-python",
   "name": "python",
   "nbconvert_exporter": "python",
   "pygments_lexer": "ipython3",
   "version": "3.7.5"
  }
 },
 "nbformat": 4,
 "nbformat_minor": 2
}
