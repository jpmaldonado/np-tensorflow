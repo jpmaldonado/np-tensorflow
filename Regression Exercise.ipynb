{
 "cells": [
  {
   "cell_type": "markdown",
   "metadata": {},
   "source": [
    "# Exercise: Regression"
   ]
  },
  {
   "cell_type": "code",
   "execution_count": 1,
   "metadata": {},
   "outputs": [],
   "source": [
    "from sklearn.datasets import load_boston"
   ]
  },
  {
   "cell_type": "code",
   "execution_count": 2,
   "metadata": {},
   "outputs": [],
   "source": [
    "X, y = load_boston(return_X_y=True)"
   ]
  },
  {
   "cell_type": "code",
   "execution_count": 3,
   "metadata": {},
   "outputs": [
    {
     "data": {
      "text/plain": [
       "(506, 13)"
      ]
     },
     "execution_count": 3,
     "metadata": {},
     "output_type": "execute_result"
    }
   ],
   "source": [
    "X.shape"
   ]
  },
  {
   "cell_type": "markdown",
   "metadata": {},
   "source": [
    "- $X$ # attributes of a house in Boston (criminality, number of schools, number of bedrooms, etc.)\n",
    "- $y$ # price per square meter"
   ]
  },
  {
   "cell_type": "markdown",
   "metadata": {},
   "source": [
    "**Task:** Find a model $y \\approx f(X)$ "
   ]
  },
  {
   "cell_type": "markdown",
   "metadata": {},
   "source": [
    "**Hint:** \n",
    "- Use `mean_squared_error` as loss\n",
    "- Parity plot instead of confusion matrix.\n",
    "- `mse` in metrics"
   ]
  },
  {
   "cell_type": "code",
   "execution_count": 4,
   "metadata": {},
   "outputs": [
    {
     "data": {
      "text/plain": [
       "array([6.320e-03, 1.800e+01, 2.310e+00, 0.000e+00, 5.380e-01, 6.575e+00,\n",
       "       6.520e+01, 4.090e+00, 1.000e+00, 2.960e+02, 1.530e+01, 3.969e+02,\n",
       "       4.980e+00])"
      ]
     },
     "execution_count": 4,
     "metadata": {},
     "output_type": "execute_result"
    }
   ],
   "source": [
    "X[0]"
   ]
  },
  {
   "cell_type": "code",
   "execution_count": 5,
   "metadata": {},
   "outputs": [],
   "source": [
    "from sklearn.model_selection import train_test_split\n",
    "X_train, X_test, y_train, y_test = train_test_split(X,y, random_state=123, train_size=0.8)"
   ]
  },
  {
   "cell_type": "markdown",
   "metadata": {},
   "source": [
    "### Normalization"
   ]
  },
  {
   "cell_type": "code",
   "execution_count": 6,
   "metadata": {},
   "outputs": [],
   "source": [
    "from sklearn.preprocessing import StandardScaler, MinMaxScaler"
   ]
  },
  {
   "cell_type": "code",
   "execution_count": 7,
   "metadata": {},
   "outputs": [],
   "source": [
    "scaler = StandardScaler()\n",
    "X_train_scl = scaler.fit_transform(X_train)\n",
    "X_test_scl = scaler.transform(X_test)"
   ]
  },
  {
   "cell_type": "code",
   "execution_count": 8,
   "metadata": {},
   "outputs": [
    {
     "data": {
      "text/plain": [
       "array([3.5100e-02, 9.5000e+01, 2.6800e+00, 0.0000e+00, 4.1610e-01,\n",
       "       7.8530e+00, 3.3200e+01, 5.1180e+00, 4.0000e+00, 2.2400e+02,\n",
       "       1.4700e+01, 3.9278e+02, 3.8100e+00])"
      ]
     },
     "execution_count": 8,
     "metadata": {},
     "output_type": "execute_result"
    }
   ],
   "source": [
    "X_train[0]"
   ]
  },
  {
   "cell_type": "code",
   "execution_count": 9,
   "metadata": {},
   "outputs": [
    {
     "data": {
      "text/plain": [
       "array([-0.40114949,  3.65385894, -1.2260954 , -0.24569789, -1.19901595,\n",
       "        2.231987  , -1.27827402,  0.62368563, -0.63693357, -1.0959901 ,\n",
       "       -1.75369612,  0.38848167, -1.26639758])"
      ]
     },
     "execution_count": 9,
     "metadata": {},
     "output_type": "execute_result"
    }
   ],
   "source": [
    "X_train_scl[0]"
   ]
  },
  {
   "cell_type": "code",
   "execution_count": 10,
   "metadata": {},
   "outputs": [],
   "source": [
    "import numpy as np"
   ]
  },
  {
   "cell_type": "code",
   "execution_count": 11,
   "metadata": {},
   "outputs": [],
   "source": [
    "y_train_scl = np.log(y_train)\n",
    "y_test_scl = np.log(y_test)"
   ]
  },
  {
   "cell_type": "markdown",
   "metadata": {},
   "source": [
    "### Different model API for keras"
   ]
  },
  {
   "cell_type": "code",
   "execution_count": 12,
   "metadata": {},
   "outputs": [],
   "source": [
    "from tensorflow.keras.models import Sequential\n",
    "from tensorflow.keras.layers import Dense"
   ]
  },
  {
   "cell_type": "code",
   "execution_count": 13,
   "metadata": {},
   "outputs": [],
   "source": [
    "model = Sequential([\n",
    "    Dense(10, input_shape=(X_train_scl.shape[1],), activation='sigmoid'), # number of columns on training set\n",
    "    Dense(1, activation='linear')\n",
    "])"
   ]
  },
  {
   "cell_type": "code",
   "execution_count": 14,
   "metadata": {},
   "outputs": [
    {
     "name": "stdout",
     "output_type": "stream",
     "text": [
      "Model: \"sequential\"\n",
      "_________________________________________________________________\n",
      "Layer (type)                 Output Shape              Param #   \n",
      "=================================================================\n",
      "dense (Dense)                (None, 10)                140       \n",
      "_________________________________________________________________\n",
      "dense_1 (Dense)              (None, 1)                 11        \n",
      "=================================================================\n",
      "Total params: 151\n",
      "Trainable params: 151\n",
      "Non-trainable params: 0\n",
      "_________________________________________________________________\n"
     ]
    }
   ],
   "source": [
    "model.summary()"
   ]
  },
  {
   "cell_type": "code",
   "execution_count": 15,
   "metadata": {},
   "outputs": [],
   "source": [
    "model.compile(loss=\"mean_squared_error\", metrics=[\"mse\"])"
   ]
  },
  {
   "cell_type": "markdown",
   "metadata": {},
   "source": [
    "### Using callbacks for our model"
   ]
  },
  {
   "cell_type": "code",
   "execution_count": 16,
   "metadata": {},
   "outputs": [],
   "source": [
    "from tensorflow.keras.callbacks import EarlyStopping, ModelCheckpoint"
   ]
  },
  {
   "cell_type": "code",
   "execution_count": 17,
   "metadata": {},
   "outputs": [],
   "source": [
    "callbacks = [EarlyStopping(patience=3, min_delta=0.1), ModelCheckpoint('my_best_model.h5', save_best_only=True)]"
   ]
  },
  {
   "cell_type": "code",
   "execution_count": 18,
   "metadata": {},
   "outputs": [
    {
     "name": "stdout",
     "output_type": "stream",
     "text": [
      "Train on 363 samples, validate on 41 samples\n",
      "Epoch 1/20\n",
      "363/363 [==============================] - 1s 2ms/sample - loss: 14.9421 - mse: 14.9421 - val_loss: 14.0820 - val_mse: 14.0820\n",
      "Epoch 2/20\n",
      "363/363 [==============================] - 0s 176us/sample - loss: 14.0925 - mse: 14.0925 - val_loss: 13.3807 - val_mse: 13.3807\n",
      "Epoch 3/20\n",
      "363/363 [==============================] - 0s 179us/sample - loss: 13.4220 - mse: 13.4220 - val_loss: 12.7442 - val_mse: 12.7442\n",
      "Epoch 4/20\n",
      "363/363 [==============================] - 0s 132us/sample - loss: 12.7965 - mse: 12.7965 - val_loss: 12.1379 - val_mse: 12.1379\n",
      "Epoch 5/20\n",
      "363/363 [==============================] - 0s 181us/sample - loss: 12.1956 - mse: 12.1956 - val_loss: 11.5531 - val_mse: 11.5531\n",
      "Epoch 6/20\n",
      "363/363 [==============================] - 0s 184us/sample - loss: 11.6139 - mse: 11.6139 - val_loss: 10.9869 - val_mse: 10.9869\n",
      "Epoch 7/20\n",
      "363/363 [==============================] - 0s 162us/sample - loss: 11.0495 - mse: 11.0495 - val_loss: 10.4381 - val_mse: 10.4381\n",
      "Epoch 8/20\n",
      "363/363 [==============================] - 0s 157us/sample - loss: 10.5010 - mse: 10.5010 - val_loss: 9.9055 - val_mse: 9.9055\n",
      "Epoch 9/20\n",
      "363/363 [==============================] - 0s 179us/sample - loss: 9.9679 - mse: 9.9679 - val_loss: 9.3891 - val_mse: 9.3891\n",
      "Epoch 10/20\n",
      "363/363 [==============================] - 0s 165us/sample - loss: 9.4503 - mse: 9.4503 - val_loss: 8.8887 - val_mse: 8.8887\n",
      "Epoch 11/20\n",
      "363/363 [==============================] - 0s 168us/sample - loss: 8.9479 - mse: 8.9479 - val_loss: 8.4042 - val_mse: 8.4042\n",
      "Epoch 12/20\n",
      "363/363 [==============================] - 0s 151us/sample - loss: 8.4609 - mse: 8.4609 - val_loss: 7.9354 - val_mse: 7.9354\n",
      "Epoch 13/20\n",
      "363/363 [==============================] - 0s 176us/sample - loss: 7.9889 - mse: 7.9889 - val_loss: 7.4822 - val_mse: 7.4822\n",
      "Epoch 14/20\n",
      "363/363 [==============================] - 0s 143us/sample - loss: 7.5320 - mse: 7.5320 - val_loss: 7.0445 - val_mse: 7.0445\n",
      "Epoch 15/20\n",
      "363/363 [==============================] - 0s 178us/sample - loss: 7.0901 - mse: 7.0901 - val_loss: 6.6220 - val_mse: 6.6220\n",
      "Epoch 16/20\n",
      "363/363 [==============================] - 0s 170us/sample - loss: 6.6630 - mse: 6.6630 - val_loss: 6.2146 - val_mse: 6.2146\n",
      "Epoch 17/20\n",
      "363/363 [==============================] - 0s 146us/sample - loss: 6.2507 - mse: 6.2507 - val_loss: 5.8221 - val_mse: 5.8221\n",
      "Epoch 18/20\n",
      "363/363 [==============================] - 0s 157us/sample - loss: 5.8531 - mse: 5.8531 - val_loss: 5.4445 - val_mse: 5.4445\n",
      "Epoch 19/20\n",
      "363/363 [==============================] - 0s 156us/sample - loss: 5.4699 - mse: 5.4699 - val_loss: 5.0814 - val_mse: 5.0814\n",
      "Epoch 20/20\n",
      "363/363 [==============================] - 0s 157us/sample - loss: 5.1012 - mse: 5.1012 - val_loss: 4.7327 - val_mse: 4.7327\n"
     ]
    }
   ],
   "source": [
    "history = model.fit(X_train_scl, y_train_scl\n",
    "                    , epochs=20, verbose=1\n",
    "                    , shuffle=False, validation_split=0.1\n",
    "                    , callbacks=callbacks\n",
    "                   ) "
   ]
  },
  {
   "cell_type": "code",
   "execution_count": 19,
   "metadata": {},
   "outputs": [],
   "source": [
    "import matplotlib.pyplot as plt"
   ]
  },
  {
   "cell_type": "code",
   "execution_count": 20,
   "metadata": {},
   "outputs": [
    {
     "data": {
      "text/plain": [
       "<matplotlib.legend.Legend at 0x251b6ad6188>"
      ]
     },
     "execution_count": 20,
     "metadata": {},
     "output_type": "execute_result"
    },
    {
     "data": {
      "image/png": "[encoded data removed]",
      "text/plain": [
       "<Figure size 432x288 with 1 Axes>"
      ]
     },
     "metadata": {
      "needs_background": "light"
     },
     "output_type": "display_data"
    }
   ],
   "source": [
    "plt.plot(history.history['loss'], label='Train loss')\n",
    "plt.plot(history.history['val_loss'], label='Val loss')\n",
    "plt.xlabel(\"Number of epochs\")\n",
    "plt.ylabel(\"Loss\")\n",
    "plt.legend()"
   ]
  }
 ],
 "metadata": {
  "kernelspec": {
   "display_name": "Python 3",
   "language": "python",
   "name": "python3"
  },
  "language_info": {
   "codemirror_mode": {
    "name": "ipython",
    "version": 3
   },
   "file_extension": ".py",
   "mimetype": "text/x-python",
   "name": "python",
   "nbconvert_exporter": "python",
   "pygments_lexer": "ipython3",
   "version": "3.7.5"
  }
 },
 "nbformat": 4,
 "nbformat_minor": 2
}
